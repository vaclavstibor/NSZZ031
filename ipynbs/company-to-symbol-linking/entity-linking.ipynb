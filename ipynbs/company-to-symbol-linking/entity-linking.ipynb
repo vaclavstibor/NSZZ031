{
 "cells": [
  {
   "cell_type": "markdown",
   "metadata": {},
   "source": [
    "# Chapter 4. Company to Symbol Linking\n",
    "This notebook is complementary material to Chapter 4. of the thesis."
   ]
  },
  {
   "cell_type": "markdown",
   "metadata": {},
   "source": [
    "## Entity Linking"
   ]
  },
  {
   "cell_type": "markdown",
   "metadata": {},
   "source": [
    "- For named entity recognition we will use [spaCy](https://spacy.io/) library.\n"
   ]
  },
  {
   "cell_type": "code",
   "execution_count": null,
   "metadata": {},
   "outputs": [],
   "source": [
    "%pip install spacy\n",
    "%pip install spacy-transformers"
   ]
  },
  {
   "cell_type": "markdown",
   "metadata": {},
   "source": [
    "- [List of spaCy english trained models](https://spacy.io/models/en)\n",
    "- Due to state of art performance, we will use `en_core_web_trf` model."
   ]
  },
  {
   "cell_type": "code",
   "execution_count": null,
   "metadata": {},
   "outputs": [],
   "source": [
    "!python3 -m spacy download en_core_web_trf"
   ]
  },
  {
   "cell_type": "markdown",
   "metadata": {},
   "source": [
    "- We need Entity Linker to get the entity Wikidata infromation, especially for the `wikidata_id` of the entity to get data from [Wikidata](https://www.wikidata.org/wiki/Wikidata:Main_Page).\n",
    "- We will use the [spaCy Entity Linker](https://github.com/egerber/spaCy-entity-linker) library to get the entity information and use the wikidata knowledge base."
   ]
  },
  {
   "cell_type": "code",
   "execution_count": null,
   "metadata": {},
   "outputs": [],
   "source": [
    "%pip install spacy-entity-linker\n",
    "!python3 -m spacy_entity_linker \"download_knowledge_base\""
   ]
  },
  {
   "cell_type": "code",
   "execution_count": 2,
   "metadata": {},
   "outputs": [
    {
     "name": "stderr",
     "output_type": "stream",
     "text": [
      "/Library/Frameworks/Python.framework/Versions/3.8/lib/python3.8/site-packages/tqdm/auto.py:21: TqdmWarning: IProgress not found. Please update jupyter and ipywidgets. See https://ipywidgets.readthedocs.io/en/stable/user_install.html\n",
      "  from .autonotebook import tqdm as notebook_tqdm\n"
     ]
    },
    {
     "data": {
      "text/plain": [
       "<spacy_entity_linker.EntityLinker.EntityLinker at 0x7fd278e2e9d0>"
      ]
     },
     "execution_count": 2,
     "metadata": {},
     "output_type": "execute_result"
    }
   ],
   "source": [
    "import spacy\n",
    "from spacy import displacy\n",
    "\n",
    "# Load the transformer-based model\n",
    "nlp = spacy.load(\"en_core_web_trf\")\n",
    "\n",
    "# Add the entity linker to the pipeline\n",
    "nlp.add_pipe(\"entityLinker\")"
   ]
  },
  {
   "cell_type": "markdown",
   "metadata": {},
   "source": [
    "- We will use the excerpt from Guardian's technology [article](https://www.theguardian.com/uk-news/2024/feb/25/uks-enemies-could-use-ai-deepfakes-to-try-to-rig-election-says-james-cleverly)."
   ]
  },
  {
   "cell_type": "code",
   "execution_count": 3,
   "metadata": {},
   "outputs": [
    {
     "data": {
      "text/html": [
       "<span class=\"tex2jax_ignore\"><div class=\"entities\" style=\"line-height: 2.5; direction: ltr\">Executives from \n",
       "<mark class=\"entity\" style=\"background: #7aecec; padding: 0.45em 0.6em; margin: 0 0.25em; line-height: 1; border-radius: 0.35em;\">\n",
       "    Adobe\n",
       "    <span style=\"font-size: 0.8em; font-weight: bold; line-height: 1; border-radius: 0.35em; vertical-align: middle; margin-left: 0.5rem\">ORG</span>\n",
       "</mark>\n",
       ", \n",
       "<mark class=\"entity\" style=\"background: #7aecec; padding: 0.45em 0.6em; margin: 0 0.25em; line-height: 1; border-radius: 0.35em;\">\n",
       "    Amazon\n",
       "    <span style=\"font-size: 0.8em; font-weight: bold; line-height: 1; border-radius: 0.35em; vertical-align: middle; margin-left: 0.5rem\">ORG</span>\n",
       "</mark>\n",
       ", \n",
       "<mark class=\"entity\" style=\"background: #7aecec; padding: 0.45em 0.6em; margin: 0 0.25em; line-height: 1; border-radius: 0.35em;\">\n",
       "    Google\n",
       "    <span style=\"font-size: 0.8em; font-weight: bold; line-height: 1; border-radius: 0.35em; vertical-align: middle; margin-left: 0.5rem\">ORG</span>\n",
       "</mark>\n",
       ", \n",
       "<mark class=\"entity\" style=\"background: #7aecec; padding: 0.45em 0.6em; margin: 0 0.25em; line-height: 1; border-radius: 0.35em;\">\n",
       "    IBM\n",
       "    <span style=\"font-size: 0.8em; font-weight: bold; line-height: 1; border-radius: 0.35em; vertical-align: middle; margin-left: 0.5rem\">ORG</span>\n",
       "</mark>\n",
       ", \n",
       "<mark class=\"entity\" style=\"background: #7aecec; padding: 0.45em 0.6em; margin: 0 0.25em; line-height: 1; border-radius: 0.35em;\">\n",
       "    Meta\n",
       "    <span style=\"font-size: 0.8em; font-weight: bold; line-height: 1; border-radius: 0.35em; vertical-align: middle; margin-left: 0.5rem\">ORG</span>\n",
       "</mark>\n",
       ", \n",
       "<mark class=\"entity\" style=\"background: #7aecec; padding: 0.45em 0.6em; margin: 0 0.25em; line-height: 1; border-radius: 0.35em;\">\n",
       "    Microsoft\n",
       "    <span style=\"font-size: 0.8em; font-weight: bold; line-height: 1; border-radius: 0.35em; vertical-align: middle; margin-left: 0.5rem\">ORG</span>\n",
       "</mark>\n",
       ", \n",
       "<mark class=\"entity\" style=\"background: #7aecec; padding: 0.45em 0.6em; margin: 0 0.25em; line-height: 1; border-radius: 0.35em;\">\n",
       "    OpenAI\n",
       "    <span style=\"font-size: 0.8em; font-weight: bold; line-height: 1; border-radius: 0.35em; vertical-align: middle; margin-left: 0.5rem\">ORG</span>\n",
       "</mark>\n",
       " and \n",
       "<mark class=\"entity\" style=\"background: #7aecec; padding: 0.45em 0.6em; margin: 0 0.25em; line-height: 1; border-radius: 0.35em;\">\n",
       "    TikTok\n",
       "    <span style=\"font-size: 0.8em; font-weight: bold; line-height: 1; border-radius: 0.35em; vertical-align: middle; margin-left: 0.5rem\">ORG</span>\n",
       "</mark>\n",
       " gathered at \n",
       "<mark class=\"entity\" style=\"background: #ffeb80; padding: 0.45em 0.6em; margin: 0 0.25em; line-height: 1; border-radius: 0.35em;\">\n",
       "    the Munich Security Conference\n",
       "    <span style=\"font-size: 0.8em; font-weight: bold; line-height: 1; border-radius: 0.35em; vertical-align: middle; margin-left: 0.5rem\">EVENT</span>\n",
       "</mark>\n",
       " to announce a new framework for how they will respond to AI-generated deepfakes that deliberately trick voters. We want to mention \n",
       "<mark class=\"entity\" style=\"background: #7aecec; padding: 0.45em 0.6em; margin: 0 0.25em; line-height: 1; border-radius: 0.35em;\">\n",
       "    Adobe\n",
       "    <span style=\"font-size: 0.8em; font-weight: bold; line-height: 1; border-radius: 0.35em; vertical-align: middle; margin-left: 0.5rem\">ORG</span>\n",
       "</mark>\n",
       " and \n",
       "<mark class=\"entity\" style=\"background: #7aecec; padding: 0.45em 0.6em; margin: 0 0.25em; line-height: 1; border-radius: 0.35em;\">\n",
       "    Microsoft\n",
       "    <span style=\"font-size: 0.8em; font-weight: bold; line-height: 1; border-radius: 0.35em; vertical-align: middle; margin-left: 0.5rem\">ORG</span>\n",
       "</mark>\n",
       " again.</div></span>"
      ],
      "text/plain": [
       "<IPython.core.display.HTML object>"
      ]
     },
     "metadata": {},
     "output_type": "display_data"
    },
    {
     "name": "stdout",
     "output_type": "stream",
     "text": [
      "<EntityElement: https://www.wikidata.org/wiki/Q20313043 Executive                 English language monthly business magazine published in Beirut, Lebanon>\n",
      "<EntityElement: https://www.wikidata.org/wiki/Q11463 Adobe                     American multinational computer software company  >\n",
      "<EntityElement: https://www.wikidata.org/wiki/Q3884 Amazon                    American electronic commerce and cloud computing company>\n",
      "<EntityElement: https://www.wikidata.org/wiki/Q95 Google                    American multinational Internet and technology corporation>\n",
      "<EntityElement: https://www.wikidata.org/wiki/Q37156 IBM                       American multinational technology and consulting corporation>\n",
      "<EntityElement: https://www.wikidata.org/wiki/Q18811574 Meta                      Silicon Valley company known for making augmented reality products>\n",
      "<EntityElement: https://www.wikidata.org/wiki/Q2283 Microsoft                 American multinational technology corporation     >\n",
      "<EntityElement: https://www.wikidata.org/wiki/Q21708200 OpenAI                    non-profit artificial intelligence research organization>\n",
      "<EntityElement: https://www.wikidata.org/wiki/Q48938223 TikTok                    short video app                                   >\n",
      "<EntityElement: https://www.wikidata.org/wiki/Q565507 Munich Security Conference Annual conference on international security policy>\n",
      "<EntityElement: https://www.wikidata.org/wiki/Q271680 software framework        type of library that helps structure other software>\n",
      "<EntityElement: https://www.wikidata.org/wiki/Q49473179 deepfake                  artificial intelligence-based human image synthesis technique>\n",
      "<EntityElement: https://www.wikidata.org/wiki/Q2386616 eligible voter            person entitled to vote in an election            >\n",
      "<EntityElement: https://www.wikidata.org/wiki/Q11463 Adobe                     American multinational computer software company  >\n",
      "<EntityElement: https://www.wikidata.org/wiki/Q2283 Microsoft                 American multinational technology corporation     >\n"
     ]
    }
   ],
   "source": [
    "text = \"Executives from Adobe, Amazon, Google, IBM, Meta, Microsoft, OpenAI and TikTok gathered at the Munich Security Conference to announce a new framework for how they will respond to AI-generated deepfakes that deliberately trick voters.\"\n",
    "\n",
    "# Text for test entity duplicity \n",
    "text = \"Executives from Adobe, Amazon, Google, IBM, Meta, Microsoft, OpenAI and TikTok gathered at the Munich Security Conference to announce a new framework for how they will respond to AI-generated deepfakes that deliberately trick voters. We want to mention Adobe and Microsoft again.\"\n",
    "\n",
    "doc = nlp(text)\n",
    "\n",
    "# Render the entities in the text\n",
    "displacy.render(doc, style=\"ent\", jupyter=True)\n",
    "\n",
    "# Get collection of entities\n",
    "entities = doc.ents\n",
    "\n",
    "# Get collection of linked entities\n",
    "linked_entities = doc._.linkedEntities\n",
    "\n",
    "linked_entities.pretty_print()"
   ]
  },
  {
   "cell_type": "markdown",
   "metadata": {},
   "source": [
    "- We want to reduce doc.ents to only `ORG`."
   ]
  },
  {
   "cell_type": "code",
   "execution_count": 4,
   "metadata": {},
   "outputs": [
    {
     "name": "stdout",
     "output_type": "stream",
     "text": [
      "(Adobe, Amazon, Google, IBM, Meta, Microsoft, OpenAI, TikTok, Adobe, Microsoft)\n"
     ]
    }
   ],
   "source": [
    "# Delte non-ORG entities from doc.ents\n",
    "doc.ents = [ent for ent in doc.ents if ent.label_ == \"ORG\"]\n",
    "print(doc.ents)"
   ]
  },
  {
   "cell_type": "code",
   "execution_count": 4,
   "metadata": {},
   "outputs": [
    {
     "name": "stdout",
     "output_type": "stream",
     "text": [
      "\n",
      "All linked entities super classes:\n",
      "business (8) : Adobe,Amazon,Google,IBM,Microsoft,OpenAI,Adobe,Microsoft\n",
      "enterprise (7) : Adobe,Amazon,Google,IBM,Microsoft,Adobe,Microsoft\n",
      "software company (3) : IBM,Microsoft,Microsoft\n",
      "type foundry (2) : Adobe,Adobe\n",
      "data controller (2) : Adobe,Adobe\n",
      "magazine (1) : Executive\n",
      "website (1) : Amazon\n",
      "IT consulting company (1) : IBM\n",
      "privately held company (1) : Meta\n",
      "research institute (1) : OpenAI\n"
     ]
    }
   ],
   "source": [
    "# Inforamtive fragment about linked entities\n",
    "print(\"\\nAll linked entities super classes:\")\n",
    "linked_entities.print_super_entities()"
   ]
  },
  {
   "cell_type": "markdown",
   "metadata": {},
   "source": [
    "- We can get super classes of entities, but we want to still talk about organisations.\n",
    "- It is more reliable than treating all possible types of entities that may be in the text and relevant to us at the same time."
   ]
  },
  {
   "cell_type": "code",
   "execution_count": 8,
   "metadata": {},
   "outputs": [
    {
     "name": "stdout",
     "output_type": "stream",
     "text": [
      "Entities count: 11\n",
      "Linked entities count: 15\n",
      "\n",
      "All entities:\n",
      " Adobe (ORG)\n",
      " Amazon (ORG)\n",
      " Google (ORG)\n",
      " IBM (ORG)\n",
      " Meta (ORG)\n",
      " Microsoft (ORG)\n",
      " OpenAI (ORG)\n",
      " TikTok (ORG)\n",
      " the Munich Security Conference (EVENT)\n",
      " Adobe (ORG)\n",
      " Microsoft (ORG)\n",
      "\n",
      "All linked entities:\n",
      " Executives -> Q20313043\n",
      "  ['magazine']\n",
      "   <EntityCollection (1 entities):\n",
      "-https://www.wikidata.org/wiki/Q41298 magazine                  publication type                                  >\n",
      " Adobe -> Q11463\n",
      "  ['type foundry', 'business', 'economic unit', 'economic model', 'economics term', 'enterprise', 'data controller']\n",
      "   <EntityCollection (4 entities):\n",
      "-https://www.wikidata.org/wiki/Q377688 type foundry              company that designs or distributes typefaces     \n",
      "-https://www.wikidata.org/wiki/Q4830453 business                  organization involved in commercial, industrial, or professional activity\n",
      "-https://www.wikidata.org/wiki/Q6881511 enterprise                for-profit organizational unit producing goods or services, which benefits from a certain degree of \n",
      "-https://www.wikidata.org/wiki/Q59859818 data controller           natural or legal person, public authority, agency or other body which determines the purposes and me>\n",
      " Amazon -> Q3884\n",
      "  ['website', 'business', 'type foundry', 'business', 'economic unit', 'economic model', 'economics term', 'enterprise', 'data controller']\n",
      "   <EntityCollection (3 entities):\n",
      "-https://www.wikidata.org/wiki/Q35127 website                   set of related web pages served from a single web domain\n",
      "-https://www.wikidata.org/wiki/Q4830453 business                  organization involved in commercial, industrial, or professional activity\n",
      "-https://www.wikidata.org/wiki/Q6881511 enterprise                for-profit organizational unit producing goods or services, which benefits from a certain degree of >\n",
      " Google -> Q95\n",
      "  ['business', 'type foundry', 'business', 'economic unit', 'economic model', 'economics term', 'enterprise', 'data controller']\n",
      "   <EntityCollection (2 entities):\n",
      "-https://www.wikidata.org/wiki/Q4830453 business                  organization involved in commercial, industrial, or professional activity\n",
      "-https://www.wikidata.org/wiki/Q6881511 enterprise                for-profit organizational unit producing goods or services, which benefits from a certain degree of >\n",
      " IBM -> Q37156\n",
      "  ['software company', 'business', 'type foundry', 'business', 'economic unit', 'economic model', 'economics term', 'enterprise', 'data controller', 'IT consulting company']\n",
      "   <EntityCollection (4 entities):\n",
      "-https://www.wikidata.org/wiki/Q1058914 software company          company that develops software                    \n",
      "-https://www.wikidata.org/wiki/Q4830453 business                  organization involved in commercial, industrial, or professional activity\n",
      "-https://www.wikidata.org/wiki/Q6881511 enterprise                for-profit organizational unit producing goods or services, which benefits from a certain degree of \n",
      "-https://www.wikidata.org/wiki/Q20031260 IT consulting company                                                       >\n",
      " Meta -> Q18811574\n",
      "  ['privately held company', 'type of business entity']\n",
      "   <EntityCollection (1 entities):\n",
      "-https://www.wikidata.org/wiki/Q1589009 privately held company    business company owned either by non-governmental organizations or by a relatively small number of s>\n",
      " Microsoft -> Q2283\n",
      "  ['software company', 'software company', 'business', 'type foundry', 'business', 'economic unit', 'economic model', 'economics term', 'enterprise', 'data controller', 'IT consulting company']\n",
      "   <EntityCollection (3 entities):\n",
      "-https://www.wikidata.org/wiki/Q1058914 software company          company that develops software                    \n",
      "-https://www.wikidata.org/wiki/Q4830453 business                  organization involved in commercial, industrial, or professional activity\n",
      "-https://www.wikidata.org/wiki/Q6881511 enterprise                for-profit organizational unit producing goods or services, which benefits from a certain degree of >\n",
      " OpenAI -> Q21708200\n",
      "  ['research institute', 'nonprofit organization', 'business', 'type foundry', 'business', 'economic unit', 'economic model', 'economics term', 'enterprise', 'data controller']\n",
      "   <EntityCollection (3 entities):\n",
      "-https://www.wikidata.org/wiki/Q31855 research institute        establishment endowed for doing research          \n",
      "-https://www.wikidata.org/wiki/Q163740 nonprofit organization    organization that uses its income to achieve its goals rather than distributing it as profit or divi\n",
      "-https://www.wikidata.org/wiki/Q4830453 business                  organization involved in commercial, industrial, or professional activity>\n",
      " TikTok -> Q48938223\n",
      "  ['mobile app']\n",
      "   <EntityCollection (1 entities):\n",
      "-https://www.wikidata.org/wiki/Q620615 mobile app                software application designed to run on mobile devices>\n",
      " Munich Security Conference -> Q565507\n",
      "  ['foundation', 'convention', 'recurrent event edition']\n",
      "   <EntityCollection (3 entities):\n",
      "-https://www.wikidata.org/wiki/Q157031 foundation                type of nonprofit organization                    \n",
      "-https://www.wikidata.org/wiki/Q625994 convention                meeting of a (usually large) group of individuals and/or companies in a certain field\n",
      "-https://www.wikidata.org/wiki/Q27968055 recurrent event edition   edition in a specific year of an event held regularly, e.g. every year>\n",
      " framework -> Q271680\n",
      "  ['software category']\n",
      "   <EntityCollection (4 entities):\n",
      "-https://www.wikidata.org/wiki/Q17155032 software category         metaclass of software                             \n",
      "-https://www.wikidata.org/wiki/Q40056 computer program          sequence of instructions written in programming language to perform a specified task with a computer\n",
      "-https://www.wikidata.org/wiki/Q241317 computing platform        hardware architecture and/or software framework   \n",
      "-https://www.wikidata.org/wiki/Q15411548 computing infrastructure                                                    >\n",
      " deepfakes -> Q49473179\n",
      "  ['portmanteau', 'derivation']\n",
      "   <EntityCollection (2 entities):\n",
      "-https://www.wikidata.org/wiki/Q208674 portmanteau               word blending the sounds and combining the meanings of two others\n",
      "-https://www.wikidata.org/wiki/Q3536669 video processing                                                            >\n",
      " voters -> Q2386616\n",
      "  []\n",
      "   <EntityCollection (1 entities):\n",
      "-https://www.wikidata.org/wiki/Q5 human                     common name of Homo sapiens, unique extant species of the genus Homo>\n",
      " Adobe -> Q11463\n",
      "  ['type foundry', 'business', 'economic unit', 'economic model', 'economics term', 'enterprise', 'data controller']\n",
      "   <EntityCollection (4 entities):\n",
      "-https://www.wikidata.org/wiki/Q377688 type foundry              company that designs or distributes typefaces     \n",
      "-https://www.wikidata.org/wiki/Q4830453 business                  organization involved in commercial, industrial, or professional activity\n",
      "-https://www.wikidata.org/wiki/Q6881511 enterprise                for-profit organizational unit producing goods or services, which benefits from a certain degree of \n",
      "-https://www.wikidata.org/wiki/Q59859818 data controller           natural or legal person, public authority, agency or other body which determines the purposes and me>\n",
      " Microsoft -> Q2283\n",
      "  ['software company', 'software company', 'business', 'type foundry', 'business', 'economic unit', 'economic model', 'economics term', 'enterprise', 'data controller', 'IT consulting company']\n",
      "   <EntityCollection (3 entities):\n",
      "-https://www.wikidata.org/wiki/Q1058914 software company          company that develops software                    \n",
      "-https://www.wikidata.org/wiki/Q4830453 business                  organization involved in commercial, industrial, or professional activity\n",
      "-https://www.wikidata.org/wiki/Q6881511 enterprise                for-profit organizational unit producing goods or services, which benefits from a certain degree of >\n"
     ]
    }
   ],
   "source": [
    "# Informative fragment about entities and linked entities\n",
    "\n",
    "# Print counts\n",
    "print(f\"Entities count: {len(entities)}\")\n",
    "print(f\"Linked entities count: {len(linked_entities)}\")\n",
    "\n",
    "# Print all entities\n",
    "print(\"\\nAll entities:\")\n",
    "for entity in entities:\n",
    "    print(f\" {entity.text} ({entity.label_})\")\n",
    "\n",
    "# Print all linked entities\n",
    "print(\"\\nAll linked entities:\")\n",
    "for linked_entity in linked_entities:\n",
    "    print(f\" {linked_entity.span.text} -> Q{linked_entity.identifier}\")\n",
    "    print(f\"  {linked_entity.get_instance_of_hierarchy()}\")\n",
    "    print(f\"   {linked_entity.get_super_entities()}\")"
   ]
  },
  {
   "cell_type": "markdown",
   "metadata": {},
   "source": [
    "- In Linked Entity object we do not have any information about that if entity is organization, person, location, etc. \n",
    "    - We can get this information from the Wikidata, but in wide range as in previous output.\n",
    "- We must use the `span` attribute of the linked entity and entity to get their match.\n",
    "    - We have information about `end_char`/`start_char` of an entity and a linked entity in the text. \n",
    "    - So we can use this information to map the entity to the linked entity to observe `qid`."
   ]
  },
  {
   "cell_type": "code",
   "execution_count": 5,
   "metadata": {},
   "outputs": [
    {
     "data": {
      "text/plain": [
       "{'Q11463': {'label': 'Adobe', 'ticker': ''},\n",
       " 'Q3884': {'label': 'Amazon', 'ticker': ''},\n",
       " 'Q95': {'label': 'Google', 'ticker': ''},\n",
       " 'Q37156': {'label': 'IBM', 'ticker': ''},\n",
       " 'Q18811574': {'label': 'Meta', 'ticker': ''},\n",
       " 'Q2283': {'label': 'Microsoft', 'ticker': ''},\n",
       " 'Q21708200': {'label': 'OpenAI', 'ticker': ''},\n",
       " 'Q48938223': {'label': 'TikTok', 'ticker': ''}}"
      ]
     },
     "metadata": {},
     "output_type": "display_data"
    },
    {
     "name": "stdout",
     "output_type": "stream",
     "text": [
      "Adobe -> Q11463\n",
      "Amazon -> Q3884\n",
      "Google -> Q95\n",
      "IBM -> Q37156\n",
      "Meta -> Q18811574\n",
      "Microsoft -> Q2283\n",
      "OpenAI -> Q21708200\n",
      "TikTok -> Q48938223\n",
      "Adobe -> Q11463\n",
      "Microsoft -> Q2283\n"
     ]
    }
   ],
   "source": [
    "from spacy.tokens import Span\n",
    "\n",
    "# Set the new qid extension to the Span\n",
    "Span.set_extension(\"qid\", default=None, force=True)\n",
    "\n",
    "# Create a dictionary to store the unique entities\n",
    "qids_ents_dict = {}\n",
    "\n",
    "# Sort the entities by their start character\n",
    "linked_entities = sorted(linked_entities, key=lambda e: e.span.start_char)\n",
    "org_entities = sorted(list(doc.ents), key=lambda e: e.start_char)\n",
    "\n",
    "# Initialize two pointers\n",
    "i, j = 0, 0\n",
    "\n",
    "# Loop while both pointers are within range\n",
    "while i < len(linked_entities) and j < len(org_entities):\n",
    "    linked_entity = linked_entities[i]\n",
    "    org_entity = org_entities[j]\n",
    "\n",
    "    # For visualization of the pointers\n",
    "    #print(i, org_entity)\n",
    "    #print(j, linked_entity)\n",
    "\n",
    "    # If the entities overlap\n",
    "    if (\n",
    "        linked_entity.span.start_char <= org_entity.end_char\n",
    "        and linked_entity.span.end_char >= org_entity.start_char\n",
    "    ):\n",
    "        # Get linked entity qid\n",
    "        qid = \"Q\" + str(linked_entity.identifier)\n",
    "\n",
    "        qids_ents_dict[qid] = {\"label\": org_entity.text, \"ticker\":\"\"}\n",
    "        org_entity._.qid = qid\n",
    "        \n",
    "        i += 1\n",
    "        j += 1\n",
    "    # If the linked entity starts later, move the pointer for org_entities\n",
    "    elif linked_entity.span.start_char > org_entity.start_char:\n",
    "        j += 1\n",
    "    # If the org entity starts later, move the pointer for linked_entities\n",
    "    else:\n",
    "        i += 1\n",
    "\n",
    "# Display the dictionary\n",
    "display(qids_ents_dict)\n",
    "\n",
    "# Display the entities with their QIDs\n",
    "for entity in doc.ents:\n",
    "    print(f\"{entity.text} -> {entity._.qid}\")"
   ]
  },
  {
   "cell_type": "markdown",
   "metadata": {},
   "source": [
    "### Now we have the entity qid and we can get the entity information from the Wikidata.\n"
   ]
  },
  {
   "cell_type": "markdown",
   "metadata": {},
   "source": [
    "- For speed up the process we will use the `qids_ents_dict` to get the entity information from the Wikidata.\n",
    "    - Instead of getting the entity information from the Wikidata for each entity, due to possible duplicity of entities in the text. \n",
    "    - We want for each article set of entities in the end.\n",
    "- We also set another new extension `ticker` to `Span`."
   ]
  },
  {
   "cell_type": "code",
   "execution_count": 10,
   "metadata": {},
   "outputs": [],
   "source": [
    "# Set the new ticker extension to the Span\n",
    "Span.set_extension(\"ticker\", default=None, force=True)"
   ]
  },
  {
   "cell_type": "code",
   "execution_count": 68,
   "metadata": {},
   "outputs": [
    {
     "name": "stdout",
     "output_type": "stream",
     "text": [
      "Requirement already satisfied: pywikibot in /Library/Frameworks/Python.framework/Versions/3.8/lib/python3.8/site-packages (9.0.0)\n",
      "Requirement already satisfied: mwparserfromhell>=0.5.2 in /Library/Frameworks/Python.framework/Versions/3.8/lib/python3.8/site-packages (from pywikibot) (0.6.6)\n",
      "Requirement already satisfied: packaging in /Library/Frameworks/Python.framework/Versions/3.8/lib/python3.8/site-packages (from pywikibot) (24.0)\n",
      "Requirement already satisfied: requests>=2.21.0 in /Library/Frameworks/Python.framework/Versions/3.8/lib/python3.8/site-packages (from pywikibot) (2.31.0)\n",
      "Requirement already satisfied: charset-normalizer<4,>=2 in /Library/Frameworks/Python.framework/Versions/3.8/lib/python3.8/site-packages (from requests>=2.21.0->pywikibot) (3.3.2)\n",
      "Requirement already satisfied: idna<4,>=2.5 in /Library/Frameworks/Python.framework/Versions/3.8/lib/python3.8/site-packages (from requests>=2.21.0->pywikibot) (3.6)\n",
      "Requirement already satisfied: urllib3<3,>=1.21.1 in /Library/Frameworks/Python.framework/Versions/3.8/lib/python3.8/site-packages (from requests>=2.21.0->pywikibot) (2.2.1)\n",
      "Requirement already satisfied: certifi>=2017.4.17 in /Library/Frameworks/Python.framework/Versions/3.8/lib/python3.8/site-packages (from requests>=2.21.0->pywikibot) (2024.2.2)\n",
      "Note: you may need to restart the kernel to use updated packages.\n"
     ]
    }
   ],
   "source": [
    "%pip install pywikibot"
   ]
  },
  {
   "cell_type": "markdown",
   "metadata": {},
   "source": [
    "- Now we can get more information about entity from the Wikidata."
   ]
  },
  {
   "cell_type": "code",
   "execution_count": 11,
   "metadata": {},
   "outputs": [
    {
     "name": "stdout",
     "output_type": "stream",
     "text": [
      "Processing Adobe with QID Q11463\n",
      "    Adobe has ticker ADBE\n",
      "Processing Amazon with QID Q3884\n",
      "    Amazon has ticker AMZN\n",
      "Processing Google with QID Q95\n",
      "    Google has ticker GOOG\n",
      "Processing IBM with QID Q37156\n",
      "    IBM has ticker IBM\n",
      "Processing Meta with QID Q18811574\n",
      "Processing Microsoft with QID Q2283\n",
      "    Microsoft has ticker MSFT\n",
      "Processing OpenAI with QID Q21708200\n",
      "Processing TikTok with QID Q48938223\n"
     ]
    }
   ],
   "source": [
    "import pywikibot\n",
    "\n",
    "# The Wikidata properties for stock exchange and ticker symbol\n",
    "STOCK_EXCHANGES = [\"Q82059\", \"Q1019992\", \"Q13677\", \"Q496672\"] # NASDAQ, NASDAQ Stockholm AB, NYSE, Hong Kong Exchanges and Clearing\n",
    "STOCK_EXCHANGE_PROPERTY = \"P414\"\n",
    "TICKER_SYMBOL_PROPERTY = \"P249\"\n",
    "\n",
    "# Initialize wikibot site and repository\n",
    "site = pywikibot.Site(\"wikidata\", \"wikidata\")\n",
    "repo = site.data_repository()\n",
    "\n",
    "def process_entity(qid, entity):\n",
    "    \"\"\"\n",
    "    Process the entity with the given QID and update the entity dictionary with the ticker symbol.\n",
    "    \"\"\"\n",
    "    try:\n",
    "        print(f\"Processing {entity['label']} with QID {qid}\")\n",
    "        page = pywikibot.ItemPage(repo, qid)\n",
    "        item_dict = page.get()\n",
    "        claims = item_dict[\"claims\"]\n",
    "\n",
    "        if STOCK_EXCHANGE_PROPERTY in claims:\n",
    "            for claim in claims[STOCK_EXCHANGE_PROPERTY]:\n",
    "                stock_exchange = claim.getTarget()\n",
    "                if stock_exchange.id in STOCK_EXCHANGES:\n",
    "                    qualifiers = claim.qualifiers\n",
    "                    if TICKER_SYMBOL_PROPERTY in qualifiers:\n",
    "                        for qualifier in qualifiers[TICKER_SYMBOL_PROPERTY]:\n",
    "                            ticker_symbol = qualifier.getTarget()\n",
    "                            print(f\"    {entity['label']} has ticker {ticker_symbol}\")\n",
    "                            entity['ticker'] = ticker_symbol\n",
    "                            return\n",
    "    except pywikibot.exceptions.Error as e:\n",
    "        print(e)\n",
    "\n",
    "for qid, entity in qids_ents_dict.items():\n",
    "    process_entity(qid, entity)"
   ]
  },
  {
   "cell_type": "code",
   "execution_count": 12,
   "metadata": {},
   "outputs": [
    {
     "name": "stdout",
     "output_type": "stream",
     "text": [
      "Adobe (ADBE)\n",
      "Amazon (AMZN)\n",
      "Google (GOOG)\n",
      "IBM (IBM)\n",
      "Meta -> Not found\n",
      "Microsoft (MSFT)\n",
      "OpenAI -> Not found\n",
      "TikTok -> Not found\n"
     ]
    }
   ],
   "source": [
    "for qid, entity in qids_ents_dict.items():\n",
    "    if entity['ticker'] == \"\":\n",
    "        print(f\"{entity['label']} -> Not found\")\n",
    "    else:\n",
    "        print(f\"{entity['label']} ({entity['ticker']})\")"
   ]
  },
  {
   "cell_type": "markdown",
   "metadata": {},
   "source": [
    "- It is too slow and hardcoding to get the entity information from the Wikidata."
   ]
  },
  {
   "cell_type": "markdown",
   "metadata": {},
   "source": [
    "Npoužijeme filter subclass of organization na wiki, protože například meta nemá instanci třídy organizace, ale technologický něco"
   ]
  },
  {
   "cell_type": "code",
   "execution_count": null,
   "metadata": {},
   "outputs": [],
   "source": [
    "%pip install sparqlwrapper"
   ]
  },
  {
   "cell_type": "markdown",
   "metadata": {},
   "source": [
    "NASDAQ: Q82059\n",
    "NYSE: Q13677\n",
    "AMEX: Q846626\n",
    "Nasdaq Stockholm AB: Q1019992"
   ]
  },
  {
   "cell_type": "markdown",
   "metadata": {},
   "source": [
    "- We add Facebook organisation into the text to see if the model can recognize it as an organization.\n",
    "    - Facebook has Q355\n",
    "    - Instagram has Q209330"
   ]
  },
  {
   "cell_type": "code",
   "execution_count": 13,
   "metadata": {},
   "outputs": [],
   "source": [
    "# Add facebook into the dict\n",
    "qids_ents_dict[\"Q209330\"] = {\"label\": \"Instagram\", \"ticker\": \"\"}"
   ]
  },
  {
   "cell_type": "code",
   "execution_count": 15,
   "metadata": {},
   "outputs": [
    {
     "name": "stdout",
     "output_type": "stream",
     "text": [
      "Entities IDs: {'Q48938223', 'Q2283', 'Q11463', 'Q3884', 'Q209330', 'Q95', 'Q37156', 'Q21708200', 'Q18811574'}\n",
      "\n",
      "Matched IDs [after query1]: {'Q11463', 'Q3884', 'Q2283', 'Q37156', 'Q95'}\n",
      " {'id': {'type': 'uri', 'value': 'http://www.wikidata.org/entity/Q95'}, 'ticker': {'type': 'literal', 'value': 'GOOG'}, 'idLabel': {'xml:lang': 'en', 'type': 'literal', 'value': 'Google'}, 'exchangesLabel': {'xml:lang': 'en', 'type': 'literal', 'value': 'Nasdaq'}}\n",
      " {'id': {'type': 'uri', 'value': 'http://www.wikidata.org/entity/Q95'}, 'ticker': {'type': 'literal', 'value': 'GOOGL'}, 'idLabel': {'xml:lang': 'en', 'type': 'literal', 'value': 'Google'}, 'exchangesLabel': {'xml:lang': 'en', 'type': 'literal', 'value': 'Nasdaq'}}\n",
      " {'id': {'type': 'uri', 'value': 'http://www.wikidata.org/entity/Q37156'}, 'ticker': {'type': 'literal', 'value': 'IBM'}, 'idLabel': {'xml:lang': 'en', 'type': 'literal', 'value': 'IBM'}, 'exchangesLabel': {'xml:lang': 'en', 'type': 'literal', 'value': 'New York Stock Exchange'}}\n",
      " {'id': {'type': 'uri', 'value': 'http://www.wikidata.org/entity/Q2283'}, 'ticker': {'type': 'literal', 'value': 'MSFT'}, 'idLabel': {'xml:lang': 'en', 'type': 'literal', 'value': 'Microsoft'}, 'exchangesLabel': {'xml:lang': 'en', 'type': 'literal', 'value': 'Nasdaq'}}\n",
      " {'id': {'type': 'uri', 'value': 'http://www.wikidata.org/entity/Q3884'}, 'ticker': {'type': 'literal', 'value': 'AMZN'}, 'idLabel': {'xml:lang': 'en', 'type': 'literal', 'value': 'Amazon'}, 'exchangesLabel': {'xml:lang': 'en', 'type': 'literal', 'value': 'Nasdaq'}}\n",
      " {'id': {'type': 'uri', 'value': 'http://www.wikidata.org/entity/Q11463'}, 'ticker': {'type': 'literal', 'value': 'ADBE'}, 'idLabel': {'xml:lang': 'en', 'type': 'literal', 'value': 'Adobe'}, 'exchangesLabel': {'xml:lang': 'en', 'type': 'literal', 'value': 'Nasdaq'}}\n",
      "Remaining IDs [after query1]: {'Q21708200', 'Q18811574', 'Q48938223', 'Q209330'}\n",
      "\n",
      "Matched IDs [after query2]: {'Q209330'}\n",
      " {'id': {'type': 'uri', 'value': 'http://www.wikidata.org/entity/Q209330'}, 'ticker': {'type': 'literal', 'value': 'META'}, 'idLabel': {'xml:lang': 'en', 'type': 'literal', 'value': 'Instagram'}, 'exchangesLabel': {'xml:lang': 'en', 'type': 'literal', 'value': 'Nasdaq'}}\n",
      "Remaining IDs [after query2]: {'Q21708200', 'Q48938223', 'Q18811574'}\n",
      "\n",
      "Matched IDs [after query3]: {'Q18811574'}\n",
      " {'id': {'type': 'uri', 'value': 'http://www.wikidata.org/entity/Q18811574'}, 'ticker': {'type': 'literal', 'value': 'META'}, 'idLabel': {'xml:lang': 'en', 'type': 'literal', 'value': 'Meta'}, 'exchangesLabel': {'xml:lang': 'en', 'type': 'literal', 'value': 'Nasdaq'}}\n",
      "Remaining IDs [after query3]: {'Q21708200', 'Q48938223'}\n",
      "\n",
      "Q95:\n",
      " {'idLabel': 'Google', 'tickers': [{'ticker': 'GOOG', 'exchange': 'Nasdaq'}, {'ticker': 'GOOGL', 'exchange': 'Nasdaq'}]}\n",
      "Q37156:\n",
      " {'idLabel': 'IBM', 'tickers': [{'ticker': 'IBM', 'exchange': 'New York Stock Exchange'}]}\n",
      "Q2283:\n",
      " {'idLabel': 'Microsoft', 'tickers': [{'ticker': 'MSFT', 'exchange': 'Nasdaq'}]}\n",
      "Q3884:\n",
      " {'idLabel': 'Amazon', 'tickers': [{'ticker': 'AMZN', 'exchange': 'Nasdaq'}]}\n",
      "Q11463:\n",
      " {'idLabel': 'Adobe', 'tickers': [{'ticker': 'ADBE', 'exchange': 'Nasdaq'}]}\n",
      "Q209330:\n",
      " {'idLabel': 'Instagram', 'tickers': [{'ticker': 'META', 'exchange': 'Nasdaq'}]}\n",
      "Q18811574:\n",
      " {'idLabel': 'Meta', 'tickers': [{'ticker': 'META', 'exchange': 'Nasdaq'}]}\n"
     ]
    }
   ],
   "source": [
    "import sys\n",
    "from spacy.tokens import Span\n",
    "from SPARQLWrapper import SPARQLWrapper, JSON\n",
    "\n",
    "from typing import Dict, List, Set, Any\n",
    "\n",
    "# The Wikidata IDs for stock exchanges\n",
    "# - NASDAQ, Q82059\n",
    "# - NASDAQ Stockholm AB, Q1019992\n",
    "# - NYSE, Q13677\n",
    "# - NYSE American (AMEX), Q846626 \n",
    "STOCK_EXCHANGES = [\"Q82059\", \"Q13677\", \"Q846626\", \"Q1019992\"]\n",
    "\n",
    "class SPARQLWikidataConnector:\n",
    "    def __init__(self):\n",
    "        self.endpoint_url = \"https://query.wikidata.org/sparql\"\n",
    "        self.user_agent = \"WDQS-example Python/%s.%s\" % (sys.version_info[0], sys.version_info[1])\n",
    "\n",
    "    def run_query(self, query):\n",
    "        sparql = SPARQLWrapper(self.endpoint_url, agent=self.user_agent)\n",
    "        sparql.setQuery(query)\n",
    "        sparql.setReturnFormat(JSON)\n",
    "        return sparql.query().convert()\n",
    "\n",
    "    def retrieve_entities_info(self, entities_identifiers: Set[str]) -> Dict[str, Any]:\n",
    "        stock_exchanges = \" \".join(f\"wd:{exchange}\" for exchange in STOCK_EXCHANGES)\n",
    "        entities_id = \" \".join(f\"wd:{entity_id}\" for entity_id in entities_identifiers)\n",
    "\n",
    "        print(f\"Entities IDs: {entities_identifiers}\\n\")\n",
    "\n",
    "        # First query\n",
    "        query1 = f\"\"\"\n",
    "        SELECT DISTINCT ?id ?idLabel ?exchangesLabel ?ticker WHERE {{\n",
    "            SERVICE wikibase:label {{ bd:serviceParam wikibase:language \"[AUTO_LANGUAGE],en\". }}\n",
    "            VALUES ?id {{ {entities_id} }}\n",
    "            VALUES ?exchanges {{ {stock_exchanges} }}\n",
    "            ?id p:P414 ?exchange.\n",
    "            ?exchange ps:P414 ?exchanges;\n",
    "                      pq:P249 ?ticker.  \n",
    "            FILTER NOT EXISTS {{\n",
    "                ?exchange pq:P582 ?endTime.\n",
    "            }}                                      \n",
    "        }}\n",
    "        \"\"\"\n",
    "        results1 = self.run_query(query1)\n",
    "        matched_ids = {result['id']['value'].split('/')[-1] for result in results1['results']['bindings']}\n",
    "\n",
    "        print(f\"Matched IDs [after query1]: {matched_ids}\")\n",
    "\n",
    "        # Find the QIDs that did not match in the first query\n",
    "        remaining_entities_id = entities_identifiers - matched_ids\n",
    "        \"\"\"\n",
    "        if not remaining_entities_id:\n",
    "            return results1\n",
    "        \"\"\"\n",
    "\n",
    "        for result in results1['results']['bindings']:\n",
    "            print(f\" {result}\")\n",
    "            \n",
    "        print(f\"Remaining IDs [after query1]: {remaining_entities_id}\\n\")\n",
    "\n",
    "        # Second query\n",
    "        unmatched_entities_id = \" \".join(f\"wd:{entity_id}\" for entity_id in remaining_entities_id)\n",
    "        query2 = f\"\"\"\n",
    "        SELECT DISTINCT ?id ?idLabel ?exchangesLabel ?ticker WHERE {{\n",
    "            SERVICE wikibase:label {{ bd:serviceParam wikibase:language \"[AUTO_LANGUAGE],en\". }}\n",
    "            VALUES ?id {{ {unmatched_entities_id} }}\n",
    "            VALUES ?exchanges {{ {stock_exchanges} }}\n",
    "            ?id wdt:P127 ?owner.\n",
    "            ?owner p:P414 ?exchange.\n",
    "            ?exchange ps:P414 ?exchanges;\n",
    "                      pq:P249 ?ticker. \n",
    "            FILTER NOT EXISTS {{\n",
    "                ?exchange pq:P582 ?endTime.\n",
    "            }}                                       \n",
    "        }}\n",
    "        \"\"\"\n",
    "        results2 = self.run_query(query2)\n",
    "        matched_ids = {result['id']['value'].split('/')[-1] for result in results2['results']['bindings']}\n",
    "\n",
    "        print(f\"Matched IDs [after query2]: {matched_ids}\")\n",
    "\n",
    "        for result in results2['results']['bindings']:\n",
    "            print(f\" {result}\")\n",
    "\n",
    "        # Find the QIDs that did not match in the first query\n",
    "        remaining_entities_id = remaining_entities_id - matched_ids\n",
    "        \"\"\"\n",
    "        if not remaining_entities_id:\n",
    "            return results\n",
    "        \"\"\"\n",
    "            \n",
    "        print(f\"Remaining IDs [after query2]: {remaining_entities_id}\\n\")      \n",
    "\n",
    "        # Third query\n",
    "        unmatched_entities_id = \" \".join(f\"wd:{entity_id}\" for entity_id in remaining_entities_id)\n",
    "        query3 = f\"\"\"\n",
    "        SELECT DISTINCT ?id ?idLabel ?exchangesLabel ?ticker WHERE {{\n",
    "            SERVICE wikibase:label {{ bd:serviceParam wikibase:language \"[AUTO_LANGUAGE],en\". }}\n",
    "            VALUES ?id {{ {unmatched_entities_id} }}\n",
    "            VALUES ?exchanges {{ {stock_exchanges} }}\n",
    "            ?id wdt:P1889 ?differs.\n",
    "            ?differs p:P414 ?exchange.\n",
    "            ?exchange ps:P414 ?exchanges;\n",
    "                    pq:P249 ?ticker.  \n",
    "            FILTER NOT EXISTS {{\n",
    "                ?exchange pq:P582 ?endTime.\n",
    "            }}                                      \n",
    "        }}\n",
    "        \"\"\"\n",
    "        results3 = self.run_query(query3)\n",
    "        matched_ids = {result['id']['value'].split('/')[-1] for result in results3['results']['bindings']}\n",
    "\n",
    "        print(f\"Matched IDs [after query3]: {matched_ids}\")\n",
    "\n",
    "        for result in results3['results']['bindings']:\n",
    "            print(f\" {result}\")\n",
    "\n",
    "        # Find the QIDs that did not match in the first query\n",
    "        remaining_entities_id = remaining_entities_id - matched_ids\n",
    "        \"\"\"\n",
    "        if not remaining_entities_id:\n",
    "            return results\n",
    "        \"\"\"\n",
    "            \n",
    "        print(f\"Remaining IDs [after query3]: {remaining_entities_id}\\n\")\n",
    "\n",
    "        # Combine all results\n",
    "        results1['results']['bindings'].extend(results2['results']['bindings'])\n",
    "        results1['results']['bindings'].extend(results3['results']['bindings'])\n",
    "\n",
    "        # Map for QID to entity info dict\n",
    "        entities_identifiers_info = {}\n",
    "        for result in results1['results']['bindings']:\n",
    "            entity_id = result['id']['value'].split('/')[-1]\n",
    "            ticker_info = {\"ticker\": result['ticker']['value'], \"exchange\": result['exchangesLabel']['value']}\n",
    "            if entity_id not in entities_identifiers_info:\n",
    "                entities_identifiers_info[entity_id] = {\n",
    "                    \"idLabel\": result['idLabel']['value'],\n",
    "                    \"tickers\": [ticker_info],\n",
    "                }\n",
    "            else:\n",
    "                entities_identifiers_info[entity_id][\"tickers\"].append(ticker_info)\n",
    "\n",
    "        for entity_id in entities_identifiers_info:\n",
    "            print(f\"{entity_id}:\\n {entities_identifiers_info[entity_id]}\")\n",
    "\n",
    "        return entities_identifiers_info\n",
    "    \n",
    "\n",
    "sparql_connector = SPARQLWikidataConnector()\n",
    "entities_info = sparql_connector.retrieve_entities_info(set(qids_ents_dict.keys()))"
   ]
  },
  {
   "cell_type": "code",
   "execution_count": 27,
   "metadata": {},
   "outputs": [
    {
     "name": "stdout",
     "output_type": "stream",
     "text": [
      "Adobe (Q11463) -> ADBE\n",
      "Amazon (Q3884) -> AMZN\n",
      "Google (Q95) -> GOOG\n",
      "IBM (Q37156) -> IBM\n",
      "Meta (Q18811574) -> META\n",
      "Microsoft (Q2283) -> MSFT\n",
      "Adobe (Q11463) -> ADBE\n",
      "Microsoft (Q2283) -> MSFT\n"
     ]
    }
   ],
   "source": [
    "# Map the tickers to the entities in the document\n",
    "for entity in doc.ents:\n",
    "    if entity._.qid in entities_info:\n",
    "        entity._.ticker = entities_info[entity._.qid][\"tickers\"][0][\"ticker\"]\n",
    "\n",
    "# Print the entities with their tickers\n",
    "for entity in doc.ents:\n",
    "    print(f\"{entity.text} ({entity._.qid}) -> {entity._.ticker}\")\n",
    "\n",
    "# Keep only the entities with tickers\n",
    "doc.ents = [ent for ent in doc.ents if ent._.ticker]"
   ]
  },
  {
   "cell_type": "code",
   "execution_count": 31,
   "metadata": {},
   "outputs": [
    {
     "name": "stdout",
     "output_type": "stream",
     "text": [
      "{'Adobe': 'ADBE', 'Amazon': 'AMZN', 'Google': 'GOOG', 'IBM': 'IBM', 'Meta': 'META', 'Microsoft': 'MSFT'}\n"
     ]
    }
   ],
   "source": [
    "# Store the entities with tickers in a dictionary\n",
    "# Create a dictionary to store entity.text:entity.ticker\n",
    "entities_tickers_dict = {ent.text: ent._.ticker for ent in doc.ents}\n",
    "print(entities_tickers_dict)\n"
   ]
  }
 ],
 "metadata": {
  "kernelspec": {
   "display_name": "Python 3",
   "language": "python",
   "name": "python3"
  },
  "language_info": {
   "codemirror_mode": {
    "name": "ipython",
    "version": 3
   },
   "file_extension": ".py",
   "mimetype": "text/x-python",
   "name": "python",
   "nbconvert_exporter": "python",
   "pygments_lexer": "ipython3",
   "version": "3.8.6"
  }
 },
 "nbformat": 4,
 "nbformat_minor": 2
}
